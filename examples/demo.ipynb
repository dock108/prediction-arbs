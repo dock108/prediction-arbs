{
 "cells": [
  {
   "cell_type": "markdown",
   "id": "6fa12477",
   "metadata": {},
   "source": [
    "# Prediction‑Arbs Demo\n",
    "End‑to‑end walk‑through using local fixtures."
   ]
  },
  {
   "cell_type": "markdown",
   "id": "b57f2ea0",
   "metadata": {},
   "source": [
    "### Setup\n",
    "Install dependencies then run the cells."
   ]
  },
  {
   "cell_type": "code",
   "execution_count": null,
   "id": "ab396ac7",
   "metadata": {},
   "outputs": [],
   "source": [
    "import json\n",
    "from decimal import Decimal\n",
    "from pathlib import Path\n",
    "\n",
    "from arbscan.edge import calc_edge\n",
    "from arbscan.normalizer import to_snapshot\n",
    "from arbscan.sizing import kelly"
   ]
  },
  {
   "cell_type": "markdown",
   "id": "45bf471a",
   "metadata": {},
   "source": [
    "### Load fixture payloads"
   ]
  },
  {
   "cell_type": "code",
   "execution_count": null,
   "id": "bf39b84c",
   "metadata": {},
   "outputs": [],
   "source": [
    "base = Path.cwd() / \"tests\" / \"fixtures\"\n",
    "kalshi_raw = json.loads((base / \"kalshi_example.json\").read_text())\n",
    "nadex_raw = json.loads((base / \"nadex_example.json\").read_text())\n",
    "\n",
    "snap_kalshi = to_snapshot(kalshi_raw, \"Kalshi\")\n",
    "snap_nadex = to_snapshot(nadex_raw, \"Nadex\")\n",
    "\n",
    "snap_kalshi, snap_nadex"
   ]
  },
  {
   "cell_type": "markdown",
   "id": "b6864439",
   "metadata": {},
   "source": [
    "### Compute edge between the two venues"
   ]
  },
  {
   "cell_type": "code",
   "execution_count": null,
   "id": "25b1d0ce",
   "metadata": {},
   "outputs": [],
   "source": [
    "edge = calc_edge(snap_kalshi, snap_nadex)\n",
    "edge"
   ]
  },
  {
   "cell_type": "markdown",
   "id": "ce18fe14",
   "metadata": {},
   "source": [
    "### Kelly stake for $1000 bankroll assuming 1.10 odds on winning leg"
   ]
  },
  {
   "cell_type": "code",
   "execution_count": null,
   "id": "04b78097",
   "metadata": {},
   "outputs": [],
   "source": [
    "stake_fraction = kelly(edge, Decimal(\"1.10\"))\n",
    "stake_amount = (Decimal(\"1000\") * stake_fraction).quantize(Decimal(\"0.01\"))\n",
    "stake_fraction, stake_amount"
   ]
  },
  {
   "cell_type": "markdown",
   "id": "c8dce6c4",
   "metadata": {},
   "source": [
    "---\n",
    "_Notebook auto‑generated 2025-05-04T16:41:33.120073Z_"
   ]
  }
 ],
 "metadata": {
  "kernelspec": {
   "display_name": "Python 3",
   "language": "python",
   "name": "python3"
  },
  "language_info": {
   "name": "python"
  }
 },
 "nbformat": 4,
 "nbformat_minor": 5
}
